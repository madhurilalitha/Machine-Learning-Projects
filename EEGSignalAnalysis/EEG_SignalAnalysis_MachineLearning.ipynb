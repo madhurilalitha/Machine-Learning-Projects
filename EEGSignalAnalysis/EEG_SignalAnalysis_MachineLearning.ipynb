{
 "cells": [
  {
   "cell_type": "markdown",
   "metadata": {},
   "source": [
    "### EEG Signal Classification using Machine Learning - Health Monitoring Signal Analysis"
   ]
  },
  {
   "cell_type": "markdown",
   "metadata": {},
   "source": [
    "This project is to analyze the application of various machine learning algorithms on Health Montoring Signal Data. The Dataset is taken from UCI Respository can be found in this link (https://archive.ics.uci.edu/ml/datasets/arrhythmia) "
   ]
  },
  {
   "cell_type": "markdown",
   "metadata": {},
   "source": [
    "Ground Truth:\n",
    "\n",
    "The aim is to distinguish between the presence and absence of cardiac arrhythmia and to classify it in one of the 16 groups. Class 01 refers to 'normal' ECG classes 02 to 15 refers to different classes of arrhythmia and class 16 refers to the rest of unclassified ones. For the time being, there exists a computer program that makes such a classification. However there are differences between the cardiolog's and the programs classification. Taking the cardiolog's as a gold standard we aim to minimise this difference by means of machine learning tools\n",
    "\n",
    "Algorithms Applied and their results:\n",
    "\n",
    "1) Support Vector Machine Classifier - Accuracy = 65.4%\n",
    "\n",
    "2) Logistic Regression - Accuracy = 66.17%\n",
    "\n",
    "3) RandomForest Classifier - 72.05%\n",
    "\n",
    "4) Multi-Layer Perceptron = Accuracy = 63.9%\n",
    "\n",
    "5) Gradient Boosting Classifier - Accuracy = 71.3%\n",
    "\n",
    "#### I found that the Random Forest Classifier is showing better performance if the accuacy is taken as the performance metric"
   ]
  },
  {
   "cell_type": "markdown",
   "metadata": {},
   "source": [
    "#### Step1: Importing Data and Dependencies"
   ]
  },
  {
   "cell_type": "code",
   "execution_count": 78,
   "metadata": {
    "collapsed": true
   },
   "outputs": [],
   "source": [
    "import pandas as pd\n",
    "import numpy as np\n",
    "from sklearn import svm\n",
    "from sklearn.multiclass import OneVsRestClassifier\n",
    "from sklearn.svm import LinearSVC\n",
    "from sklearn.linear_model import LogisticRegression\n",
    "from sklearn.ensemble import RandomForestClassifier, GradientBoostingClassifier, AdaBoostClassifier\n",
    "from sklearn.neural_network import MLPClassifier\n",
    "from sklearn.model_selection import GridSearchCV\n",
    "from sklearn.metrics import confusion_matrix, classification_report, accuracy_score"
   ]
  },
  {
   "cell_type": "markdown",
   "metadata": {},
   "source": [
    "Data Analysis"
   ]
  },
  {
   "cell_type": "code",
   "execution_count": 3,
   "metadata": {},
   "outputs": [
    {
     "data": {
      "text/html": [
       "<div>\n",
       "<style>\n",
       "    .dataframe thead tr:only-child th {\n",
       "        text-align: right;\n",
       "    }\n",
       "\n",
       "    .dataframe thead th {\n",
       "        text-align: left;\n",
       "    }\n",
       "\n",
       "    .dataframe tbody tr th {\n",
       "        vertical-align: top;\n",
       "    }\n",
       "</style>\n",
       "<table border=\"1\" class=\"dataframe\">\n",
       "  <thead>\n",
       "    <tr style=\"text-align: right;\">\n",
       "      <th></th>\n",
       "      <th>49</th>\n",
       "      <th>1</th>\n",
       "      <th>162</th>\n",
       "      <th>54</th>\n",
       "      <th>78</th>\n",
       "      <th>0</th>\n",
       "      <th>376</th>\n",
       "      <th>157</th>\n",
       "      <th>70</th>\n",
       "      <th>67</th>\n",
       "      <th>...</th>\n",
       "      <th>0.146</th>\n",
       "      <th>8.2</th>\n",
       "      <th>-1.9</th>\n",
       "      <th>0.147</th>\n",
       "      <th>0.148</th>\n",
       "      <th>0.1.4</th>\n",
       "      <th>0.5.1</th>\n",
       "      <th>15.8</th>\n",
       "      <th>19.8</th>\n",
       "      <th>1.2</th>\n",
       "    </tr>\n",
       "  </thead>\n",
       "  <tbody>\n",
       "    <tr>\n",
       "      <th>0</th>\n",
       "      <td>66</td>\n",
       "      <td>1</td>\n",
       "      <td>160</td>\n",
       "      <td>70</td>\n",
       "      <td>76</td>\n",
       "      <td>160</td>\n",
       "      <td>368</td>\n",
       "      <td>153</td>\n",
       "      <td>75</td>\n",
       "      <td>0</td>\n",
       "      <td>...</td>\n",
       "      <td>-0.4</td>\n",
       "      <td>14.3</td>\n",
       "      <td>-1.7</td>\n",
       "      <td>0.0</td>\n",
       "      <td>0</td>\n",
       "      <td>-0.4</td>\n",
       "      <td>1.7</td>\n",
       "      <td>28.1</td>\n",
       "      <td>44.0</td>\n",
       "      <td>16</td>\n",
       "    </tr>\n",
       "    <tr>\n",
       "      <th>1</th>\n",
       "      <td>50</td>\n",
       "      <td>1</td>\n",
       "      <td>174</td>\n",
       "      <td>90</td>\n",
       "      <td>81</td>\n",
       "      <td>105</td>\n",
       "      <td>362</td>\n",
       "      <td>197</td>\n",
       "      <td>70</td>\n",
       "      <td>-31</td>\n",
       "      <td>...</td>\n",
       "      <td>0.0</td>\n",
       "      <td>5.3</td>\n",
       "      <td>-2.9</td>\n",
       "      <td>0.0</td>\n",
       "      <td>0</td>\n",
       "      <td>-0.3</td>\n",
       "      <td>1.6</td>\n",
       "      <td>3.5</td>\n",
       "      <td>18.5</td>\n",
       "      <td>1</td>\n",
       "    </tr>\n",
       "    <tr>\n",
       "      <th>2</th>\n",
       "      <td>29</td>\n",
       "      <td>0</td>\n",
       "      <td>172</td>\n",
       "      <td>69</td>\n",
       "      <td>93</td>\n",
       "      <td>129</td>\n",
       "      <td>390</td>\n",
       "      <td>137</td>\n",
       "      <td>60</td>\n",
       "      <td>62</td>\n",
       "      <td>...</td>\n",
       "      <td>-0.6</td>\n",
       "      <td>11.9</td>\n",
       "      <td>-1.3</td>\n",
       "      <td>0.0</td>\n",
       "      <td>0</td>\n",
       "      <td>0.3</td>\n",
       "      <td>1.7</td>\n",
       "      <td>20.4</td>\n",
       "      <td>30.6</td>\n",
       "      <td>6</td>\n",
       "    </tr>\n",
       "    <tr>\n",
       "      <th>3</th>\n",
       "      <td>64</td>\n",
       "      <td>0</td>\n",
       "      <td>170</td>\n",
       "      <td>70</td>\n",
       "      <td>94</td>\n",
       "      <td>162</td>\n",
       "      <td>405</td>\n",
       "      <td>237</td>\n",
       "      <td>95</td>\n",
       "      <td>76</td>\n",
       "      <td>...</td>\n",
       "      <td>0.0</td>\n",
       "      <td>10.3</td>\n",
       "      <td>-3.2</td>\n",
       "      <td>0.0</td>\n",
       "      <td>0</td>\n",
       "      <td>1.2</td>\n",
       "      <td>-1.9</td>\n",
       "      <td>14.3</td>\n",
       "      <td>-6.2</td>\n",
       "      <td>2</td>\n",
       "    </tr>\n",
       "    <tr>\n",
       "      <th>4</th>\n",
       "      <td>45</td>\n",
       "      <td>1</td>\n",
       "      <td>165</td>\n",
       "      <td>86</td>\n",
       "      <td>77</td>\n",
       "      <td>143</td>\n",
       "      <td>373</td>\n",
       "      <td>150</td>\n",
       "      <td>65</td>\n",
       "      <td>12</td>\n",
       "      <td>...</td>\n",
       "      <td>0.0</td>\n",
       "      <td>4.4</td>\n",
       "      <td>-2.2</td>\n",
       "      <td>0.0</td>\n",
       "      <td>0</td>\n",
       "      <td>0.5</td>\n",
       "      <td>1.5</td>\n",
       "      <td>4.9</td>\n",
       "      <td>17.2</td>\n",
       "      <td>1</td>\n",
       "    </tr>\n",
       "  </tbody>\n",
       "</table>\n",
       "<p>5 rows × 280 columns</p>\n",
       "</div>"
      ],
      "text/plain": [
       "   49  1  162  54  78    0  376  157  70  67 ...   0.146   8.2  -1.9  0.147  \\\n",
       "0  66  1  160  70  76  160  368  153  75   0 ...    -0.4  14.3  -1.7    0.0   \n",
       "1  50  1  174  90  81  105  362  197  70 -31 ...     0.0   5.3  -2.9    0.0   \n",
       "2  29  0  172  69  93  129  390  137  60  62 ...    -0.6  11.9  -1.3    0.0   \n",
       "3  64  0  170  70  94  162  405  237  95  76 ...     0.0  10.3  -3.2    0.0   \n",
       "4  45  1  165  86  77  143  373  150  65  12 ...     0.0   4.4  -2.2    0.0   \n",
       "\n",
       "   0.148  0.1.4  0.5.1  15.8  19.8  1.2  \n",
       "0      0   -0.4    1.7  28.1  44.0   16  \n",
       "1      0   -0.3    1.6   3.5  18.5    1  \n",
       "2      0    0.3    1.7  20.4  30.6    6  \n",
       "3      0    1.2   -1.9  14.3  -6.2    2  \n",
       "4      0    0.5    1.5   4.9  17.2    1  \n",
       "\n",
       "[5 rows x 280 columns]"
      ]
     },
     "execution_count": 3,
     "metadata": {},
     "output_type": "execute_result"
    }
   ],
   "source": [
    "df1 = pd.read_csv(\"../CNN/data_clean_imputed.csv\")\n",
    "df1.head()"
   ]
  },
  {
   "cell_type": "code",
   "execution_count": 4,
   "metadata": {},
   "outputs": [
    {
     "data": {
      "text/plain": [
       "1     244\n",
       "10     50\n",
       "2      44\n",
       "6      25\n",
       "16     22\n",
       "4      15\n",
       "3      15\n",
       "5      13\n",
       "9       9\n",
       "15      5\n",
       "14      4\n",
       "7       3\n",
       "8       2\n",
       "Name: 1.2, dtype: int64"
      ]
     },
     "execution_count": 4,
     "metadata": {},
     "output_type": "execute_result"
    }
   ],
   "source": [
    "df1[\"1.2\"].value_counts()"
   ]
  },
  {
   "cell_type": "markdown",
   "metadata": {},
   "source": [
    "Observations:\n",
    "\n",
    "a) The dataset has missing values where I have imputed them using mean of the feature\n",
    "\n",
    "b) The last column is the label where it has classes from '0' to '16' which makes this a MULTI-CLASS Classification problem\n",
    "\n",
    "c) The value_counts cell shows the distribution of the each class label in the dataset"
   ]
  },
  {
   "cell_type": "markdown",
   "metadata": {},
   "source": [
    "#### Step 2: Data Preprocessing"
   ]
  },
  {
   "cell_type": "markdown",
   "metadata": {},
   "source": [
    "The below function builds the dataset in required format and splits into train and test subsets with features and labels seperated. "
   ]
  },
  {
   "cell_type": "code",
   "execution_count": 5,
   "metadata": {},
   "outputs": [
    {
     "name": "stdout",
     "output_type": "stream",
     "text": [
      "train_X:  316 \ttrain_Y:  316 \ttest_X:  136 \ttest_y:  136\n"
     ]
    }
   ],
   "source": [
    "input_file = open(\"../CNN/data_clean_imputed.csv\",\"r\")\n",
    "#input_file = open(\"../data/pca.csv\",\"r\")\n",
    "\n",
    "lines = input_file.readlines()\n",
    "\n",
    "TRAINING_SIZE = 316\n",
    "# 1 for binary, 2 for multiclass\n",
    "CLASSIFICATION_TYPE = 2\n",
    "NUM_PCA = 270;\n",
    "\n",
    "train_X = []\n",
    "train_y = []\n",
    "\n",
    "test_X = []\n",
    "test_y = []\n",
    "\n",
    "count = 0\n",
    "for line in lines:\n",
    "\ttokens = line.strip().split(\",\")\n",
    "\tif count < TRAINING_SIZE:\n",
    "\t\ttrain_X.append([float(s) for s in tokens[0:NUM_PCA]])\n",
    "\t\tif CLASSIFICATION_TYPE == 2:\n",
    "\t\t\ttrain_y.append(int(tokens[len(tokens)-1]))\n",
    "\t\telif int(tokens[len(tokens)-1]) == 1:\n",
    "\t\t\ttrain_y.append(0)\n",
    "\t\telse:\n",
    "\t\t\ttrain_y.append(1)\n",
    "\t\tcount += 1\n",
    "\telse:\n",
    "\t\ttest_X.append([float(s) for s in tokens[0:NUM_PCA]])\n",
    "\t\tif CLASSIFICATION_TYPE == 2:\n",
    "\t\t\ttest_y.append(int(tokens[len(tokens)-1]))\n",
    "\t\telif int(tokens[len(tokens)-1]) == 1:\n",
    "\t\t\ttest_y.append(0)\n",
    "\t\telse:\n",
    "\t\t\ttest_y.append(1)\n",
    "#print \"Y\\n\", y\n",
    "#print \"TEST Y\\n\", test_y\n",
    "\n",
    "print (\"train_X: \", len(train_X), \"\\ttrain_Y: \",len(train_y),\"\\ttest_X: \",len(test_X),\"\\ttest_y: \",len(test_y))"
   ]
  },
  {
   "cell_type": "markdown",
   "metadata": {
    "collapsed": true
   },
   "source": [
    "#### Step 3: Model Building and Evaluation"
   ]
  },
  {
   "cell_type": "markdown",
   "metadata": {},
   "source": [
    "##### 1. Performance of Support Vector Machine Classifier"
   ]
  },
  {
   "cell_type": "code",
   "execution_count": 71,
   "metadata": {},
   "outputs": [
    {
     "data": {
      "text/plain": [
       "array([[71,  3,  1,  1,  4,  4,  1,  1,  1,  5,  1,  2,  5],\n",
       "       [ 3,  2,  0,  1,  1,  1,  0,  0,  0,  0,  0,  1,  1],\n",
       "       [ 0,  0,  4,  0,  0,  0,  0,  0,  0,  0,  0,  0,  0],\n",
       "       [ 1,  1,  0,  1,  0,  0,  0,  0,  0,  0,  0,  0,  0],\n",
       "       [ 0,  0,  0,  0,  0,  0,  0,  0,  0,  0,  0,  0,  0],\n",
       "       [ 2,  0,  0,  0,  0,  0,  0,  0,  1,  0,  1,  0,  0],\n",
       "       [ 0,  0,  0,  0,  0,  0,  0,  0,  0,  0,  0,  0,  0],\n",
       "       [ 0,  0,  0,  0,  0,  0,  0,  0,  0,  0,  0,  0,  0],\n",
       "       [ 0,  0,  0,  0,  0,  0,  0,  0,  0,  0,  0,  0,  0],\n",
       "       [ 1,  0,  0,  0,  0,  1,  0,  0,  0, 11,  0,  0,  0],\n",
       "       [ 0,  0,  0,  0,  0,  0,  0,  0,  0,  0,  0,  0,  0],\n",
       "       [ 0,  0,  0,  0,  0,  0,  0,  0,  0,  0,  0,  0,  0],\n",
       "       [ 0,  1,  0,  0,  0,  0,  0,  0,  0,  1,  0,  0,  0]])"
      ]
     },
     "execution_count": 71,
     "metadata": {},
     "output_type": "execute_result"
    }
   ],
   "source": [
    "import warnings\n",
    "warnings.filterwarnings('ignore')\n",
    "\n",
    "y_predicted = OneVsRestClassifier(LinearSVC()).fit(train_X, train_y).predict(test_X)\n",
    "confusion_matrix(y_predicted, test_y)"
   ]
  },
  {
   "cell_type": "code",
   "execution_count": 72,
   "metadata": {},
   "outputs": [
    {
     "name": "stdout",
     "output_type": "stream",
     "text": [
      "Accuracy of the Model on the Test Dataset is 0.6544117647058824 \n",
      "\n",
      "Classification Report \n",
      "              precision    recall  f1-score   support\n",
      "\n",
      "          1       0.91      0.71      0.80       100\n",
      "          2       0.29      0.20      0.24        10\n",
      "          3       0.80      1.00      0.89         4\n",
      "          4       0.33      0.33      0.33         3\n",
      "          5       0.00      0.00      0.00         0\n",
      "          6       0.00      0.00      0.00         4\n",
      "          7       0.00      0.00      0.00         0\n",
      "          8       0.00      0.00      0.00         0\n",
      "          9       0.00      0.00      0.00         0\n",
      "         10       0.65      0.85      0.73        13\n",
      "         14       0.00      0.00      0.00         0\n",
      "         15       0.00      0.00      0.00         0\n",
      "         16       0.00      0.00      0.00         2\n",
      "\n",
      "avg / total       0.78      0.65      0.71       136\n",
      "\n"
     ]
    }
   ],
   "source": [
    "print (\"Accuracy of the Model on the Test Dataset is {} \\n\".format(accuracy_score(y_predicted, test_y)))\n",
    "print (\"Classification Report \\n\",classification_report(y_predicted, test_y))\n"
   ]
  },
  {
   "cell_type": "markdown",
   "metadata": {},
   "source": [
    "##### 2. Performance of Logistic Regression"
   ]
  },
  {
   "cell_type": "code",
   "execution_count": 49,
   "metadata": {},
   "outputs": [
    {
     "data": {
      "text/plain": [
       "array([[66,  3,  0,  2,  3,  3,  1,  1,  0,  2,  1,  0,  3],\n",
       "       [ 6,  2,  0,  0,  2,  1,  0,  0,  0,  0,  0,  1,  1],\n",
       "       [ 0,  0,  5,  0,  0,  0,  0,  0,  0,  0,  0,  1,  0],\n",
       "       [ 1,  1,  0,  1,  0,  0,  0,  0,  0,  0,  0,  0,  0],\n",
       "       [ 0,  0,  0,  0,  0,  0,  0,  0,  0,  0,  0,  0,  0],\n",
       "       [ 2,  0,  0,  0,  0,  1,  0,  0,  1,  0,  1,  0,  2],\n",
       "       [ 0,  0,  0,  0,  0,  0,  0,  0,  0,  0,  0,  0,  0],\n",
       "       [ 0,  1,  0,  0,  0,  0,  0,  0,  0,  0,  0,  0,  0],\n",
       "       [ 0,  0,  0,  0,  0,  0,  0,  0,  1,  0,  0,  0,  0],\n",
       "       [ 3,  0,  0,  0,  0,  1,  0,  0,  0, 14,  0,  1,  0],\n",
       "       [ 0,  0,  0,  0,  0,  0,  0,  0,  0,  0,  0,  0,  0],\n",
       "       [ 0,  0,  0,  0,  0,  0,  0,  0,  0,  0,  0,  0,  0],\n",
       "       [ 0,  0,  0,  0,  0,  0,  0,  0,  0,  1,  0,  0,  0]])"
      ]
     },
     "execution_count": 49,
     "metadata": {},
     "output_type": "execute_result"
    }
   ],
   "source": [
    "y_predicted = OneVsRestClassifier(LogisticRegression()).fit(train_X, train_y).predict(test_X)\n",
    "confusion_matrix(y_predicted, test_y)"
   ]
  },
  {
   "cell_type": "code",
   "execution_count": 50,
   "metadata": {},
   "outputs": [
    {
     "name": "stdout",
     "output_type": "stream",
     "text": [
      "Accuracy of the Model on the Test Dataset is 0.6617647058823529 \n",
      "\n",
      "Classification Report \n",
      "              precision    recall  f1-score   support\n",
      "\n",
      "          1       0.85      0.78      0.81        85\n",
      "          2       0.29      0.15      0.20        13\n",
      "          3       1.00      0.83      0.91         6\n",
      "          4       0.33      0.33      0.33         3\n",
      "          5       0.00      0.00      0.00         0\n",
      "          6       0.17      0.14      0.15         7\n",
      "          7       0.00      0.00      0.00         0\n",
      "          8       0.00      0.00      0.00         1\n",
      "          9       0.50      1.00      0.67         1\n",
      "         10       0.82      0.74      0.78        19\n",
      "         14       0.00      0.00      0.00         0\n",
      "         15       0.00      0.00      0.00         0\n",
      "         16       0.00      0.00      0.00         1\n",
      "\n",
      "avg / total       0.73      0.66      0.69       136\n",
      "\n"
     ]
    }
   ],
   "source": [
    "print (\"Accuracy of the Model on the Test Dataset is {} \\n\".format(accuracy_score(y_predicted, test_y)))\n",
    "print (\"Classification Report \\n\",classification_report(y_predicted, test_y))"
   ]
  },
  {
   "cell_type": "markdown",
   "metadata": {},
   "source": [
    "##### 3. Performance of Random Forest Classifier"
   ]
  },
  {
   "cell_type": "code",
   "execution_count": 51,
   "metadata": {},
   "outputs": [
    {
     "data": {
      "text/plain": [
       "array([[74,  0,  0,  2,  4,  6,  1,  1,  0,  6,  2,  2,  6],\n",
       "       [ 3,  5,  1,  0,  0,  0,  0,  0,  0,  0,  0,  1,  0],\n",
       "       [ 0,  0,  4,  0,  0,  0,  0,  0,  0,  0,  0,  0,  0],\n",
       "       [ 0,  0,  0,  1,  0,  0,  0,  0,  0,  0,  0,  0,  0],\n",
       "       [ 0,  0,  0,  0,  1,  0,  0,  0,  0,  0,  0,  0,  0],\n",
       "       [ 0,  0,  0,  0,  0,  0,  0,  0,  0,  0,  0,  0,  0],\n",
       "       [ 0,  0,  0,  0,  0,  0,  0,  0,  0,  0,  0,  0,  0],\n",
       "       [ 0,  0,  0,  0,  0,  0,  0,  0,  0,  0,  0,  0,  0],\n",
       "       [ 0,  0,  0,  0,  0,  0,  0,  0,  2,  0,  0,  0,  0],\n",
       "       [ 1,  1,  0,  0,  0,  0,  0,  0,  0, 11,  0,  0,  0],\n",
       "       [ 0,  0,  0,  0,  0,  0,  0,  0,  0,  0,  0,  0,  0],\n",
       "       [ 0,  0,  0,  0,  0,  0,  0,  0,  0,  0,  0,  0,  0],\n",
       "       [ 0,  1,  0,  0,  0,  0,  0,  0,  0,  0,  0,  0,  0]])"
      ]
     },
     "execution_count": 51,
     "metadata": {},
     "output_type": "execute_result"
    }
   ],
   "source": [
    "y_predicted = OneVsRestClassifier(RandomForestClassifier()).fit(train_X, train_y).predict(test_X)\n",
    "confusion_matrix(y_predicted, test_y)"
   ]
  },
  {
   "cell_type": "code",
   "execution_count": 52,
   "metadata": {},
   "outputs": [
    {
     "name": "stdout",
     "output_type": "stream",
     "text": [
      "Accuracy of the Model on the Test Dataset is 0.7205882352941176 \n",
      "\n",
      "Classification Report \n",
      "              precision    recall  f1-score   support\n",
      "\n",
      "          1       0.95      0.71      0.81       104\n",
      "          2       0.71      0.50      0.59        10\n",
      "          3       0.80      1.00      0.89         4\n",
      "          4       0.33      1.00      0.50         1\n",
      "          5       0.20      1.00      0.33         1\n",
      "          6       0.00      0.00      0.00         0\n",
      "          7       0.00      0.00      0.00         0\n",
      "          8       0.00      0.00      0.00         0\n",
      "          9       1.00      1.00      1.00         2\n",
      "         10       0.65      0.85      0.73        13\n",
      "         14       0.00      0.00      0.00         0\n",
      "         15       0.00      0.00      0.00         0\n",
      "         16       0.00      0.00      0.00         1\n",
      "\n",
      "avg / total       0.88      0.72      0.78       136\n",
      "\n"
     ]
    }
   ],
   "source": [
    "print (\"Accuracy of the Model on the Test Dataset is {} \\n\".format(accuracy_score(y_predicted, test_y)))\n",
    "print (\"Classification Report \\n\",classification_report(y_predicted, test_y))"
   ]
  },
  {
   "cell_type": "markdown",
   "metadata": {},
   "source": [
    "##### 4. Performance of Multi-Layer-Perceptron Classifier"
   ]
  },
  {
   "cell_type": "code",
   "execution_count": 53,
   "metadata": {},
   "outputs": [
    {
     "data": {
      "text/plain": [
       "array([[67,  3,  1,  2,  3,  4,  1,  1,  0,  2,  0,  1,  5],\n",
       "       [ 7,  3,  0,  0,  1,  0,  0,  0,  0,  0,  0,  1,  1],\n",
       "       [ 0,  0,  0,  0,  0,  0,  0,  0,  0,  0,  0,  0,  0],\n",
       "       [ 0,  0,  0,  0,  0,  0,  0,  0,  0,  0,  0,  0,  0],\n",
       "       [ 0,  0,  0,  0,  1,  0,  0,  0,  0,  0,  0,  0,  0],\n",
       "       [ 0,  1,  3,  0,  0,  0,  0,  0,  0,  1,  0,  0,  0],\n",
       "       [ 0,  0,  0,  0,  0,  0,  0,  0,  0,  0,  0,  0,  0],\n",
       "       [ 0,  0,  0,  0,  0,  0,  0,  0,  0,  0,  0,  0,  0],\n",
       "       [ 0,  0,  1,  0,  0,  0,  0,  0,  2,  0,  0,  0,  0],\n",
       "       [ 4,  0,  0,  1,  0,  2,  0,  0,  0, 14,  2,  1,  0],\n",
       "       [ 0,  0,  0,  0,  0,  0,  0,  0,  0,  0,  0,  0,  0],\n",
       "       [ 0,  0,  0,  0,  0,  0,  0,  0,  0,  0,  0,  0,  0],\n",
       "       [ 0,  0,  0,  0,  0,  0,  0,  0,  0,  0,  0,  0,  0]])"
      ]
     },
     "execution_count": 53,
     "metadata": {},
     "output_type": "execute_result"
    }
   ],
   "source": [
    "y_predicted = OneVsRestClassifier(MLPClassifier()).fit(train_X, train_y).predict(test_X)\n",
    "confusion_matrix(y_predicted, test_y)"
   ]
  },
  {
   "cell_type": "code",
   "execution_count": 54,
   "metadata": {},
   "outputs": [
    {
     "name": "stdout",
     "output_type": "stream",
     "text": [
      "Accuracy of the Model on the Test Dataset is 0.6397058823529411 \n",
      "\n",
      "Classification Report \n",
      "              precision    recall  f1-score   support\n",
      "\n",
      "          1       0.86      0.74      0.80        90\n",
      "          2       0.43      0.23      0.30        13\n",
      "          3       0.00      0.00      0.00         0\n",
      "          4       0.00      0.00      0.00         0\n",
      "          5       0.20      1.00      0.33         1\n",
      "          6       0.00      0.00      0.00         5\n",
      "          7       0.00      0.00      0.00         0\n",
      "          8       0.00      0.00      0.00         0\n",
      "          9       1.00      0.67      0.80         3\n",
      "         10       0.82      0.58      0.68        24\n",
      "         14       0.00      0.00      0.00         0\n",
      "         15       0.00      0.00      0.00         0\n",
      "         16       0.00      0.00      0.00         0\n",
      "\n",
      "avg / total       0.78      0.64      0.70       136\n",
      "\n"
     ]
    }
   ],
   "source": [
    "print (\"Accuracy of the Model on the Test Dataset is {} \\n\".format(accuracy_score(y_predicted, test_y)))\n",
    "print (\"Classification Report \\n\",classification_report(y_predicted, test_y))"
   ]
  },
  {
   "cell_type": "markdown",
   "metadata": {},
   "source": [
    "##### 5. Performance of Gradient Boosting Classifier"
   ]
  },
  {
   "cell_type": "code",
   "execution_count": 90,
   "metadata": {},
   "outputs": [
    {
     "data": {
      "text/plain": [
       "array([[74,  2,  0,  2,  4,  3,  1,  1,  2,  7,  0,  0,  4],\n",
       "       [ 3,  3,  0,  1,  0,  0,  0,  0,  0,  0,  0,  1,  0],\n",
       "       [ 0,  0,  5,  0,  0,  0,  0,  0,  0,  0,  0,  1,  0],\n",
       "       [ 0,  0,  0,  0,  0,  0,  0,  0,  0,  0,  0,  0,  0],\n",
       "       [ 0,  0,  0,  0,  1,  0,  0,  0,  0,  0,  0,  0,  0],\n",
       "       [ 1,  0,  0,  0,  0,  3,  0,  0,  0,  1,  0,  0,  0],\n",
       "       [ 0,  0,  0,  0,  0,  0,  0,  0,  0,  0,  0,  0,  1],\n",
       "       [ 0,  0,  0,  0,  0,  0,  0,  0,  0,  0,  0,  0,  0],\n",
       "       [ 0,  0,  0,  0,  0,  0,  0,  0,  0,  0,  0,  0,  0],\n",
       "       [ 0,  1,  0,  0,  0,  0,  0,  0,  0,  9,  0,  0,  0],\n",
       "       [ 0,  0,  0,  0,  0,  0,  0,  0,  0,  0,  1,  0,  0],\n",
       "       [ 0,  1,  0,  0,  0,  0,  0,  0,  0,  0,  0,  1,  1],\n",
       "       [ 0,  0,  0,  0,  0,  0,  0,  0,  0,  0,  1,  0,  0]])"
      ]
     },
     "execution_count": 90,
     "metadata": {},
     "output_type": "execute_result"
    }
   ],
   "source": [
    "y_predicted = OneVsRestClassifier(GradientBoostingClassifier()).fit(train_X, train_y).predict(test_X)\n",
    "confusion_matrix(y_predicted, test_y)"
   ]
  },
  {
   "cell_type": "code",
   "execution_count": 91,
   "metadata": {},
   "outputs": [
    {
     "name": "stdout",
     "output_type": "stream",
     "text": [
      "Accuracy of the Model on the Test Dataset is 0.7132352941176471 \n",
      "\n",
      "Classification Report \n",
      "              precision    recall  f1-score   support\n",
      "\n",
      "          1       0.95      0.74      0.83       100\n",
      "          2       0.43      0.38      0.40         8\n",
      "          3       1.00      0.83      0.91         6\n",
      "          4       0.00      0.00      0.00         0\n",
      "          5       0.20      1.00      0.33         1\n",
      "          6       0.50      0.60      0.55         5\n",
      "          7       0.00      0.00      0.00         1\n",
      "          8       0.00      0.00      0.00         0\n",
      "          9       0.00      0.00      0.00         0\n",
      "         10       0.53      0.90      0.67        10\n",
      "         14       0.50      1.00      0.67         1\n",
      "         15       0.33      0.33      0.33         3\n",
      "         16       0.00      0.00      0.00         1\n",
      "\n",
      "avg / total       0.84      0.71      0.76       136\n",
      "\n"
     ]
    }
   ],
   "source": [
    "print (\"Accuracy of the Model on the Test Dataset is {} \\n\".format(accuracy_score(y_predicted, test_y)))\n",
    "print (\"Classification Report \\n\",classification_report(y_predicted, test_y))"
   ]
  }
 ],
 "metadata": {
  "kernelspec": {
   "display_name": "Python 3",
   "language": "python",
   "name": "python3"
  },
  "language_info": {
   "codemirror_mode": {
    "name": "ipython",
    "version": 3
   },
   "file_extension": ".py",
   "mimetype": "text/x-python",
   "name": "python",
   "nbconvert_exporter": "python",
   "pygments_lexer": "ipython3",
   "version": "3.5.3"
  }
 },
 "nbformat": 4,
 "nbformat_minor": 2
}
